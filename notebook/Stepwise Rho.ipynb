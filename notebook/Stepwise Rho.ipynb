{
 "cells": [
  {
   "cell_type": "code",
   "execution_count": 1,
   "id": "7a45c3e2",
   "metadata": {},
   "outputs": [],
   "source": [
    "import os\n",
    "import sys\n",
    "import matplotlib.pyplot as plt\n",
    "import numpy as np\n",
    "from pprint import pprint\n",
    "import pandas as pd\n",
    "import seaborn as sns\n",
    "from IPython.display import display, Math, Latex\n",
    "import re\n",
    "\n",
    "from data_utils import plot_workload_2d\n",
    "\n",
    "HOME_DIR = os.getcwd()"
   ]
  },
  {
   "cell_type": "code",
   "execution_count": 2,
   "id": "040b9bd2",
   "metadata": {},
   "outputs": [],
   "source": [
    "os.chdir(HOME_DIR)\n",
    "os.chdir(\"../experiment_results/rho_stepwise\")\n",
    "files = ['uniform.csv', \n",
    "         'unimodal_1.csv', 'unimodal_2.csv', 'unimodal_3.csv', 'unimodal_4.csv', \n",
    "         #'bimodal_1.csv', 'bimodal_2.csv', 'bimodal_3.csv', 'bimodal_4.csv', 'bimodal_5.csv', 'bimodal_6.csv',\n",
    "         'trimodal_1.csv', 'trimodal_2.csv', 'trimodal_3.csv', 'trimodal_4.csv'\n",
    "        ]"
   ]
  },
  {
   "cell_type": "markdown",
   "id": "e857f8f1",
   "metadata": {},
   "source": [
    "## Grouping by Epsilon"
   ]
  },
  {
   "cell_type": "code",
   "execution_count": 3,
   "id": "b3dbcc35",
   "metadata": {},
   "outputs": [],
   "source": [
    "from pprint import pprint"
   ]
  },
  {
   "cell_type": "markdown",
   "id": "8857548a",
   "metadata": {},
   "source": [
    "First, we construct a cost matrix that arranges the different percent changes in cost so that \n",
    "- cost_matrix[0, 0] (upper left) corresponds to $E(\\rho) = 2$ and $\\frac{1}{\\varepsilon} = 1$\n",
    "- cost_matrix[m, 0] (bottom left) corresponds to $E(\\rho) = 0$ and $\\frac{1}{\\varepsilon} = 1$\n",
    "- cost_matrix[0, m] (upper right) corresponds to $E(\\rho) = 2$ and $\\frac{1}{\\varepsilon} = 20$\n",
    "\n",
    "We use $\\frac{1}{\\varepsilon}$ so moving towards the right represents an increase in privacy. Moving up represents an increase in the neighborhood given to Endure's robust tuner. "
   ]
  },
  {
   "cell_type": "code",
   "execution_count": 4,
   "id": "afb446ba",
   "metadata": {},
   "outputs": [],
   "source": [
    "def prepare_cost_matrix(filename): \n",
    "    df = pd.read_csv(filename)\n",
    "    df['Percent Change'] = (df['Robust Cost'] - df['Nominal Cost'])/df['Nominal Cost']\n",
    "    # The higher, the more private \n",
    "    df['Epsilon Invert'] = df['Epsilon'].apply(lambda x: 1/x)\n",
    "    df = df.sort_values(by=['Rho', 'Epsilon Invert'])\n",
    "\n",
    "    # setting x (epsilon_invert) and y (rho) axis for the graph\n",
    "    epsilon_invert = np.sort(df['Epsilon Invert'].unique())\n",
    "    rho_values = np.sort(df['Rho'].unique())\n",
    "    # we invert them because [0, 0] corresponds to upper left corner in imshow\n",
    "    epsilon_invert = epsilon_invert[::-1]\n",
    "    rho_values = rho_values[::-1]\n",
    "\n",
    "    # setup cost matrix \n",
    "    cost_matrix = np.zeros((len(rho_values), len(epsilon_invert)))\n",
    "    for i, rho in enumerate(rho_values):\n",
    "        for j, eps in enumerate(epsilon_invert): \n",
    "            # find the corresponding percent change value, given a specific rho and epsilon invert\n",
    "            percent_change = df[(df['Rho'] == rho) & (df['Epsilon Invert'] == eps)]['Percent Change'].iloc[0]\n",
    "            cost_matrix[i, j] = percent_change\n",
    "    \n",
    "    return cost_matrix, epsilon_invert, rho_values"
   ]
  },
  {
   "cell_type": "code",
   "execution_count": 5,
   "id": "8d0ec05c",
   "metadata": {},
   "outputs": [],
   "source": [
    "def plot_heatmap(cost_matrix, epsilon_invert, rho_values, name='', cost_mins=None, cost_maxs=None): \n",
    "    fig, ax = plt.subplots()\n",
    "    im = ax.imshow(cost_matrix, \n",
    "                   extent=[min(epsilon_invert), round(max(epsilon_invert), 1), min(rho_values), max(rho_values)], \n",
    "                   vmin=np.min(cost_mins), \n",
    "                   vmax=np.median(cost_maxs) # to avoid outliers \n",
    "                  )\n",
    "    cbar = fig.colorbar(im)\n",
    "    ax.set_aspect('auto')\n",
    "    cbar.set_label('Percent Change in Cost')  \n",
    "    ax.set_title(rf'Epsilon vs. Rho: {name}')\n",
    "    ax.set_xlabel(r\"1 / $\\varepsilon$\")  \n",
    "    ax.set_ylabel(r\"$\\rho$\") \n",
    "    fig.tight_layout()\n",
    "    plt.show()"
   ]
  },
  {
   "cell_type": "code",
   "execution_count": null,
   "id": "ae364ab9",
   "metadata": {},
   "outputs": [],
   "source": [
    "cost_matrix_all = []\n",
    "cost_maxs = []\n",
    "cost_mins = []\n",
    "filenames = []\n",
    "\n",
    "for file in files: \n",
    "    cost_matrix, epsilon_invert, rho_values = prepare_cost_matrix(file)\n",
    "    filenames += [file]\n",
    "    cost_mins += [np.min(cost_matrix)]\n",
    "    cost_maxs += [np.max(cost_matrix)]\n",
    "    cost_matrix_all += [cost_matrix]"
   ]
  },
  {
   "cell_type": "code",
   "execution_count": null,
   "id": "99b82813",
   "metadata": {},
   "outputs": [],
   "source": [
    "for i in range(len(filenames)): \n",
    "    cost_matrix = cost_matrix_all[i]\n",
    "    name = filenames[i].split('.')[0]\n",
    "    name = name.replace('_', ' ')\n",
    "    name = name.capitalize()\n",
    "    plot_heatmap(cost_matrix, epsilon_invert, rho_values, name=name, cost_mins=cost_mins, cost_maxs=cost_maxs)"
   ]
  },
  {
   "cell_type": "markdown",
   "id": "34243075",
   "metadata": {},
   "source": [
    "Graphs with many large percent change"
   ]
  },
  {
   "cell_type": "code",
   "execution_count": null,
   "id": "bad24510",
   "metadata": {},
   "outputs": [],
   "source": [
    "files = ['unimodal_1.csv', 'unimodal_4']\n",
    "\n",
    "df = pd.read_csv(files[0])\n",
    "plot_workload_2d(df)"
   ]
  },
  {
   "cell_type": "markdown",
   "id": "f1049f99",
   "metadata": {},
   "source": [
    "Graphs with almost no change "
   ]
  },
  {
   "cell_type": "code",
   "execution_count": null,
   "id": "869ef27f",
   "metadata": {},
   "outputs": [],
   "source": [
    "files = ['unimodal_2.csv', 'unimodal_3.csv', 'trimodal_4']"
   ]
  },
  {
   "cell_type": "markdown",
   "id": "dfd25973",
   "metadata": {},
   "source": [
    "Graphs with some change "
   ]
  },
  {
   "cell_type": "code",
   "execution_count": null,
   "id": "a16fe094",
   "metadata": {},
   "outputs": [],
   "source": [
    "files = ['uniform.csv', 'trimodal_1.csv', 'trimodal_2.csv', 'trimodal_3.csv']"
   ]
  }
 ],
 "metadata": {
  "kernelspec": {
   "display_name": "Python 3 (ipykernel)",
   "language": "python",
   "name": "python3"
  },
  "language_info": {
   "codemirror_mode": {
    "name": "ipython",
    "version": 3
   },
   "file_extension": ".py",
   "mimetype": "text/x-python",
   "name": "python",
   "nbconvert_exporter": "python",
   "pygments_lexer": "ipython3",
   "version": "3.9.12"
  }
 },
 "nbformat": 4,
 "nbformat_minor": 5
}
